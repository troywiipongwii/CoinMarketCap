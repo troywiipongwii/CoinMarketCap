{
 "cells": [
  {
   "cell_type": "code",
   "execution_count": 1,
   "metadata": {},
   "outputs": [],
   "source": [
    "from bs4 import BeautifulSoup\n",
    "import requests\n",
    "import pandas as pd"
   ]
  },
  {
   "cell_type": "code",
   "execution_count": 2,
   "metadata": {},
   "outputs": [],
   "source": [
    "# standard modules we will always use\n",
    "import pandas as pd\n",
    "import numpy as np\n",
    "import scipy as sp\n",
    "import mglearn\n",
    "from IPython.display import display\n",
    "import matplotlib.pyplot as plt\n",
    "%matplotlib inline"
   ]
  },
  {
   "cell_type": "code",
   "execution_count": 378,
   "metadata": {},
   "outputs": [],
   "source": [
    "def coinmarketcap_name(url):\n",
    "    url = url\n",
    "    content = requests.get(url).content\n",
    "    soup = BeautifulSoup(content,'html.parser')\n",
    "    table = soup.find('table', {'class': 'table'})\n",
    "    data = [[td.text.strip() for td in tr.findChildren('td')] \n",
    "        for tr in table.findChildren('tr')]\n",
    "    df = pd.DataFrame(data)\n",
    "    df.drop(df.index[0], inplace=True) # first row is empty\n",
    "    \n",
    "    df.columns = ['#','Name','Symbol','Market_Cap','Price','Circulating_Supply','Volume','1h_change','24h_change',\n",
    "                      '7D_change','More']\n",
    "    \n",
    "    list1 = ['Market_Cap','Price','Circulating_Supply','Volume','1h_change','24h_change','7D_change']\n",
    "    \n",
    "    for item in list1:\n",
    "        df[item] = [\n",
    "            j.replace(',','').replace('$','').replace('?','NA').replace('\\n*','').replace('%','').replace('*','').replace('Low Vol','NA')\n",
    "                    for j in df[item]]\n",
    "    \n",
    "    df['Name'] = [ i[5:] for i in df['Name']]\n",
    "    df['Name'] = [ i.replace('\\n','').replace(' ','-') for i in df['Name']]\n",
    "    \n",
    "    df = df.drop(columns = ['More'])\n",
    "    df = df.dropna()\n",
    "        \n",
    "    return df"
   ]
  },
  {
   "cell_type": "code",
   "execution_count": 379,
   "metadata": {},
   "outputs": [],
   "source": [
    "name = coinmarketcap_name(\"https://coinmarketcap.com/all/views/all/\")\n",
    "top10 = name[0:10]\n",
    "top25 = name[0:25]\n",
    "top50 = name[0:50]\n",
    "top100 = name[0:100]\n",
    "top200 = name[0:200]\n",
    "\n",
    "\n",
    "\n",
    "\n",
    "    \n"
   ]
  },
  {
   "cell_type": "code",
   "execution_count": 14,
   "metadata": {},
   "outputs": [],
   "source": [
    "sector_data = pd.read_csv('purpose_coins.csv', names = ['Coin','Purpose'])"
   ]
  },
  {
   "cell_type": "code",
   "execution_count": 18,
   "metadata": {},
   "outputs": [],
   "source": [
    "sector_data = pd.DataFrame(sector_data)"
   ]
  },
  {
   "cell_type": "code",
   "execution_count": 20,
   "metadata": {},
   "outputs": [
    {
     "data": {
      "text/plain": [
       "Platform                      29\n",
       "Misc                          14\n",
       "Currency                      12\n",
       "Ecosystem                     10\n",
       "Privacy                       10\n",
       "Currency exchange tool         7\n",
       "Social network coin            4\n",
       "Gaming & Gambling              4\n",
       "Decentralized data storage     4\n",
       "Fee token                      3\n",
       "Stablecoin                     3\n",
       "Cloud computing                2\n",
       "Name: Purpose, dtype: int64"
      ]
     },
     "execution_count": 20,
     "metadata": {},
     "output_type": "execute_result"
    }
   ],
   "source": [
    "sector_data['Purpose'].value_counts()"
   ]
  },
  {
   "cell_type": "code",
   "execution_count": 23,
   "metadata": {},
   "outputs": [],
   "source": [
    "PlatformCoins = sector_data.loc[sector_data['Purpose'] == 'Platform', 'Coin']\n",
    "MiscCoins = sector_data.loc[sector_data['Purpose'] == 'Misc', 'Coin']\n",
    "CurrenyCoins = sector_data.loc[sector_data['Purpose'] == 'Currency', 'Coin']\n",
    "EcosystemCoins = sector_data.loc[sector_data['Purpose'] == 'Ecosystem', 'Coin']\n",
    "PrivacyCoins = sector_data.loc[sector_data['Purpose'] == 'Privacy', 'Coin']\n",
    "CurrencyExchangeCoins = sector_data.loc[sector_data['Purpose'] == 'Currency exchange tool', 'Coin']\n",
    "SocialNCoins = sector_data.loc[sector_data['Purpose'] == 'Social network coin', 'Coin']\n",
    "GamingCoins = sector_data.loc[sector_data['Purpose'] == 'Gaming & Gambling', 'Coin']\n",
    "DecentralStorCoins = sector_data.loc[sector_data['Purpose'] == 'Decentralized data storage', 'Coin']\n",
    "FeeCoins = sector_data.loc[sector_data['Purpose'] == 'Fee token', 'Coin']\n",
    "StableCoins = sector_data.loc[sector_data['Purpose'] == 'Stablecoin', 'Coin']\n",
    "CloudCoins = sector_data.loc[sector_data['Purpose'] == 'Cloud computing', 'Coin']\n"
   ]
  },
  {
   "cell_type": "code",
   "execution_count": 388,
   "metadata": {},
   "outputs": [],
   "source": [
    "def url_list(list,startdate,enddate):\n",
    "    urlList = []\n",
    "    for i in list:\n",
    "        urlList.append(crypto_url(i,startdate,enddate))\n",
    "    return urlList\n",
    "        "
   ]
  },
  {
   "cell_type": "code",
   "execution_count": 387,
   "metadata": {},
   "outputs": [],
   "source": [
    "#crytpo_name_list = name['Name']\n",
    "def crypto_url(name, startdate, enddate): \n",
    "    url = \"https://coinmarketcap.com/currencies/{}/historical-data/?start={}&end={}\".format(name,startdate,enddate)\n",
    "    url = str(url)\n",
    "    return url\n"
   ]
  },
  {
   "cell_type": "code",
   "execution_count": 389,
   "metadata": {},
   "outputs": [
    {
     "data": {
      "text/plain": [
       "['https://coinmarketcap.com/currencies/Bitcoin/historical-data/?start=20160724&end=20190404',\n",
       " 'https://coinmarketcap.com/currencies/Ethereum/historical-data/?start=20160724&end=20190404',\n",
       " 'https://coinmarketcap.com/currencies/XRP/historical-data/?start=20160724&end=20190404',\n",
       " 'https://coinmarketcap.com/currencies/Litecoin/historical-data/?start=20160724&end=20190404',\n",
       " 'https://coinmarketcap.com/currencies/Bitcoin-Cash/historical-data/?start=20160724&end=20190404',\n",
       " 'https://coinmarketcap.com/currencies/EOS/historical-data/?start=20160724&end=20190404',\n",
       " 'https://coinmarketcap.com/currencies/Binance-Coin/historical-data/?start=20160724&end=20190404',\n",
       " 'https://coinmarketcap.com/currencies/Stellar/historical-data/?start=20160724&end=20190404',\n",
       " 'https://coinmarketcap.com/currencies/Cardano/historical-data/?start=20160724&end=20190404',\n",
       " 'https://coinmarketcap.com/currencies/Tether/historical-data/?start=20160724&end=20190404']"
      ]
     },
     "execution_count": 389,
     "metadata": {},
     "output_type": "execute_result"
    }
   ],
   "source": [
    "urlList = url_list(top10['Name'],20160724,20190404)\n",
    "urlList"
   ]
  },
  {
   "cell_type": "code",
   "execution_count": 341,
   "metadata": {},
   "outputs": [
    {
     "data": {
      "text/plain": [
       "'https://coinmarketcap.com/currencies/bitcoin/historical-data/?start=20160724&end=20190404'"
      ]
     },
     "execution_count": 341,
     "metadata": {},
     "output_type": "execute_result"
    }
   ],
   "source": [
    "bitcoin_url = crypto_url('bitcoin', 20160724, 20190404)\n",
    "bitcoin_url"
   ]
  },
  {
   "cell_type": "code",
   "execution_count": 347,
   "metadata": {},
   "outputs": [],
   "source": [
    "def coinmarketcap_data(url):\n",
    "    url = url\n",
    "    content = requests.get(url).content\n",
    "    soup = BeautifulSoup(content,'html.parser')\n",
    "    table = soup.find('table', {'class': 'table'})\n",
    "    data = [[td.text.strip() for td in tr.findChildren('td')] \n",
    "        for tr in table.findChildren('tr')]\n",
    "    df = pd.DataFrame(data)\n",
    "    df.drop(df.index[0], inplace=True) # first row is empty\n",
    "    df[0] =  pd.to_datetime(df[0]) # date\n",
    "    \n",
    "    \n",
    "    \n",
    "    df.columns = ['Date','Open','High','Low','Close','Volume','Market_Cap']\n",
    "    list2 = ['Open','High','Low','Close','Volume','Market_Cap']\n",
    "    for item in list2:\n",
    "        df[item] = [pd.to_numeric(j.replace(\",\",\"\").replace(\"-\",\"\")) for j in df[item] ] # some vol is missing and has -\n",
    "    df.set_index('Date',inplace=True)\n",
    "    df.sort_index(inplace=True)\n",
    "    return df"
   ]
  },
  {
   "cell_type": "code",
   "execution_count": 390,
   "metadata": {},
   "outputs": [],
   "source": [
    "def crypto_multiple_data(urlList, nameList):\n",
    "    crypto_dict = {}\n",
    "    for name in nameList:\n",
    "        for url in urlList:\n",
    "            crypto_dict[nameList] = coinmarketcap_data(url)\n",
    "    return crypto_dict"
   ]
  },
  {
   "cell_type": "code",
   "execution_count": 391,
   "metadata": {},
   "outputs": [
    {
     "ename": "TypeError",
     "evalue": "'Series' objects are mutable, thus they cannot be hashed",
     "output_type": "error",
     "traceback": [
      "\u001b[0;31m---------------------------------------------------------------------------\u001b[0m",
      "\u001b[0;31mTypeError\u001b[0m                                 Traceback (most recent call last)",
      "\u001b[0;32m<ipython-input-391-f50b10e26b8c>\u001b[0m in \u001b[0;36m<module>\u001b[0;34m\u001b[0m\n\u001b[0;32m----> 1\u001b[0;31m \u001b[0mcrypto_dict\u001b[0m \u001b[0;34m=\u001b[0m \u001b[0mcrypto_multiple_data\u001b[0m\u001b[0;34m(\u001b[0m\u001b[0murlList\u001b[0m\u001b[0;34m,\u001b[0m\u001b[0mtop10\u001b[0m\u001b[0;34m[\u001b[0m\u001b[0;34m'Name'\u001b[0m\u001b[0;34m]\u001b[0m\u001b[0;34m)\u001b[0m\u001b[0;34m\u001b[0m\u001b[0;34m\u001b[0m\u001b[0m\n\u001b[0m\u001b[1;32m      2\u001b[0m \u001b[0mcrypto_dict\u001b[0m\u001b[0;34m\u001b[0m\u001b[0;34m\u001b[0m\u001b[0m\n",
      "\u001b[0;32m<ipython-input-390-3b79bb3faf15>\u001b[0m in \u001b[0;36mcrypto_multiple_data\u001b[0;34m(urlList, nameList)\u001b[0m\n\u001b[1;32m      3\u001b[0m     \u001b[0;32mfor\u001b[0m \u001b[0mname\u001b[0m \u001b[0;32min\u001b[0m \u001b[0mnameList\u001b[0m\u001b[0;34m:\u001b[0m\u001b[0;34m\u001b[0m\u001b[0;34m\u001b[0m\u001b[0m\n\u001b[1;32m      4\u001b[0m         \u001b[0;32mfor\u001b[0m \u001b[0murl\u001b[0m \u001b[0;32min\u001b[0m \u001b[0murlList\u001b[0m\u001b[0;34m:\u001b[0m\u001b[0;34m\u001b[0m\u001b[0;34m\u001b[0m\u001b[0m\n\u001b[0;32m----> 5\u001b[0;31m             \u001b[0mcrypto_dict\u001b[0m\u001b[0;34m[\u001b[0m\u001b[0mnameList\u001b[0m\u001b[0;34m]\u001b[0m \u001b[0;34m=\u001b[0m \u001b[0mcoinmarketcap_data\u001b[0m\u001b[0;34m(\u001b[0m\u001b[0murl\u001b[0m\u001b[0;34m)\u001b[0m\u001b[0;34m\u001b[0m\u001b[0;34m\u001b[0m\u001b[0m\n\u001b[0m\u001b[1;32m      6\u001b[0m     \u001b[0;32mreturn\u001b[0m \u001b[0mcrypto_dict\u001b[0m\u001b[0;34m\u001b[0m\u001b[0;34m\u001b[0m\u001b[0m\n",
      "\u001b[0;32m~/anaconda3/lib/python3.7/site-packages/pandas/core/generic.py\u001b[0m in \u001b[0;36m__hash__\u001b[0;34m(self)\u001b[0m\n\u001b[1;32m   1490\u001b[0m     \u001b[0;32mdef\u001b[0m \u001b[0m__hash__\u001b[0m\u001b[0;34m(\u001b[0m\u001b[0mself\u001b[0m\u001b[0;34m)\u001b[0m\u001b[0;34m:\u001b[0m\u001b[0;34m\u001b[0m\u001b[0;34m\u001b[0m\u001b[0m\n\u001b[1;32m   1491\u001b[0m         raise TypeError('{0!r} objects are mutable, thus they cannot be'\n\u001b[0;32m-> 1492\u001b[0;31m                         ' hashed'.format(self.__class__.__name__))\n\u001b[0m\u001b[1;32m   1493\u001b[0m \u001b[0;34m\u001b[0m\u001b[0m\n\u001b[1;32m   1494\u001b[0m     \u001b[0;32mdef\u001b[0m \u001b[0m__iter__\u001b[0m\u001b[0;34m(\u001b[0m\u001b[0mself\u001b[0m\u001b[0;34m)\u001b[0m\u001b[0;34m:\u001b[0m\u001b[0;34m\u001b[0m\u001b[0;34m\u001b[0m\u001b[0m\n",
      "\u001b[0;31mTypeError\u001b[0m: 'Series' objects are mutable, thus they cannot be hashed"
     ]
    }
   ],
   "source": [
    "crypto_dict = crypto_multiple_data(urlList,top10['Name'])\n",
    "crypto_dict"
   ]
  },
  {
   "cell_type": "code",
   "execution_count": 202,
   "metadata": {},
   "outputs": [],
   "source": [
    "def daily_returns(coinList):\n",
    "    return_matrix = [[],[],[],[],[],[]]\n",
    "    for i in range(len(coinList)):\n",
    "        for j in range(len(coinList[i]['Close'])):\n",
    "            return_matrix[i].append(float((coinList[i]['Close'][j] - coinList[i]['Open'][j])/coinList[i]['Open'][j]))\n",
    "        \n",
    "    return_matrix = pd.DataFrame(return_matrix) #index = bitcoin.index)\n",
    "    return_matrix = return_matrix.T\n",
    "    return_matrix.columns = ['btc_returns', 'eth_returns', 'ltc_returns', 'xrp_returns', 'etc_returns', 'xlm_returns']\n",
    "    return_matrix.index = coinList[0].index\n",
    "    return return_matrix\n",
    "    \n"
   ]
  },
  {
   "cell_type": "code",
   "execution_count": 205,
   "metadata": {},
   "outputs": [
    {
     "data": {
      "text/html": [
       "<div>\n",
       "<style scoped>\n",
       "    .dataframe tbody tr th:only-of-type {\n",
       "        vertical-align: middle;\n",
       "    }\n",
       "\n",
       "    .dataframe tbody tr th {\n",
       "        vertical-align: top;\n",
       "    }\n",
       "\n",
       "    .dataframe thead th {\n",
       "        text-align: right;\n",
       "    }\n",
       "</style>\n",
       "<table border=\"1\" class=\"dataframe\">\n",
       "  <thead>\n",
       "    <tr style=\"text-align: right;\">\n",
       "      <th></th>\n",
       "      <th>btc_returns</th>\n",
       "      <th>eth_returns</th>\n",
       "      <th>ltc_returns</th>\n",
       "      <th>xrp_returns</th>\n",
       "      <th>etc_returns</th>\n",
       "      <th>xlm_returns</th>\n",
       "    </tr>\n",
       "    <tr>\n",
       "      <th>Date</th>\n",
       "      <th></th>\n",
       "      <th></th>\n",
       "      <th></th>\n",
       "      <th></th>\n",
       "      <th></th>\n",
       "      <th></th>\n",
       "    </tr>\n",
       "  </thead>\n",
       "  <tbody>\n",
       "    <tr>\n",
       "      <th>2019-03-30</th>\n",
       "      <td>0.003548</td>\n",
       "      <td>-0.001897</td>\n",
       "      <td>-0.010286</td>\n",
       "      <td>0.009676</td>\n",
       "      <td>-0.014403</td>\n",
       "      <td>-0.002036</td>\n",
       "    </tr>\n",
       "    <tr>\n",
       "      <th>2019-03-31</th>\n",
       "      <td>-0.000015</td>\n",
       "      <td>-0.004432</td>\n",
       "      <td>0.001979</td>\n",
       "      <td>-0.004831</td>\n",
       "      <td>0.006263</td>\n",
       "      <td>0.002122</td>\n",
       "    </tr>\n",
       "    <tr>\n",
       "      <th>2019-04-01</th>\n",
       "      <td>0.012866</td>\n",
       "      <td>0.002545</td>\n",
       "      <td>-0.001481</td>\n",
       "      <td>0.011488</td>\n",
       "      <td>0.000000</td>\n",
       "      <td>0.018329</td>\n",
       "    </tr>\n",
       "    <tr>\n",
       "      <th>2019-04-02</th>\n",
       "      <td>0.173917</td>\n",
       "      <td>0.155950</td>\n",
       "      <td>0.255189</td>\n",
       "      <td>0.123700</td>\n",
       "      <td>0.130435</td>\n",
       "      <td>0.111951</td>\n",
       "    </tr>\n",
       "    <tr>\n",
       "      <th>2019-04-03</th>\n",
       "      <td>0.019070</td>\n",
       "      <td>-0.015548</td>\n",
       "      <td>0.113559</td>\n",
       "      <td>-0.025832</td>\n",
       "      <td>0.000000</td>\n",
       "      <td>-0.004267</td>\n",
       "    </tr>\n",
       "  </tbody>\n",
       "</table>\n",
       "</div>"
      ],
      "text/plain": [
       "            btc_returns  eth_returns  ltc_returns  xrp_returns  etc_returns  \\\n",
       "Date                                                                          \n",
       "2019-03-30     0.003548    -0.001897    -0.010286     0.009676    -0.014403   \n",
       "2019-03-31    -0.000015    -0.004432     0.001979    -0.004831     0.006263   \n",
       "2019-04-01     0.012866     0.002545    -0.001481     0.011488     0.000000   \n",
       "2019-04-02     0.173917     0.155950     0.255189     0.123700     0.130435   \n",
       "2019-04-03     0.019070    -0.015548     0.113559    -0.025832     0.000000   \n",
       "\n",
       "            xlm_returns  \n",
       "Date                     \n",
       "2019-03-30    -0.002036  \n",
       "2019-03-31     0.002122  \n",
       "2019-04-01     0.018329  \n",
       "2019-04-02     0.111951  \n",
       "2019-04-03    -0.004267  "
      ]
     },
     "execution_count": 205,
     "metadata": {},
     "output_type": "execute_result"
    }
   ],
   "source": [
    "return_matrix = daily_returns(coinList)\n",
    "#df2 = pd.DataFrame(index = bitcoin.index)\n",
    "return_matrix.tail()\n"
   ]
  },
  {
   "cell_type": "code",
   "execution_count": 206,
   "metadata": {},
   "outputs": [],
   "source": [
    "block_cov = return_matrix.cov"
   ]
  },
  {
   "cell_type": "code",
   "execution_count": 207,
   "metadata": {},
   "outputs": [],
   "source": [
    "#block_cov"
   ]
  },
  {
   "cell_type": "code",
   "execution_count": 208,
   "metadata": {},
   "outputs": [
    {
     "data": {
      "text/plain": [
       "btc_returns    1.000000\n",
       "ltc_returns    0.555981\n",
       "eth_returns    0.538707\n",
       "xlm_returns    0.330913\n",
       "xrp_returns    0.264423\n",
       "etc_returns    0.251343\n",
       "Name: btc_returns, dtype: float64"
      ]
     },
     "execution_count": 208,
     "metadata": {},
     "output_type": "execute_result"
    }
   ],
   "source": [
    "block_corr = return_matrix.corr()\n",
    "block_corr['btc_returns'].sort_values(ascending = False)"
   ]
  },
  {
   "cell_type": "code",
   "execution_count": 209,
   "metadata": {},
   "outputs": [],
   "source": [
    "from sklearn.decomposition import PCA\n",
    "\n",
    "sklearn_pca = PCA(n_components=4) # let's look at the first 20 components\n",
    "pc = sklearn_pca.fit_transform(return_matrix)"
   ]
  },
  {
   "cell_type": "code",
   "execution_count": 210,
   "metadata": {},
   "outputs": [
    {
     "data": {
      "image/png": "[encoded data removed]",
      "text/plain": [
       "<Figure size 432x288 with 1 Axes>"
      ]
     },
     "metadata": {
      "needs_background": "light"
     },
     "output_type": "display_data"
    }
   ],
   "source": [
    "# plot the variance explained by pcs\n",
    "plt.bar(range(4),sklearn_pca.explained_variance_ratio_)\n",
    "plt.title('variancelained by pc')\n",
    "plt.show()"
   ]
  },
  {
   "cell_type": "code",
   "execution_count": 211,
   "metadata": {},
   "outputs": [
    {
     "data": {
      "text/plain": [
       "array([0.44175874, 0.29036062, 0.10734686, 0.09845577])"
      ]
     },
     "execution_count": 211,
     "metadata": {},
     "output_type": "execute_result"
    }
   ],
   "source": [
    "sklearn_pca.explained_variance_ratio_"
   ]
  },
  {
   "cell_type": "code",
   "execution_count": 212,
   "metadata": {},
   "outputs": [],
   "source": [
    "# get the Principal components\n",
    "pcs =sklearn_pca.components_\n"
   ]
  },
  {
   "cell_type": "code",
   "execution_count": 213,
   "metadata": {},
   "outputs": [],
   "source": [
    "# first component\n",
    "pc1 = pcs[0,:]\n",
    "# normalized to 1 \n",
    "pc_w = np.asmatrix(pc1/sum(pc1)).T"
   ]
  },
  {
   "cell_type": "code",
   "execution_count": 214,
   "metadata": {},
   "outputs": [],
   "source": [
    "# apply our first componenet as weight of the stocks\n",
    "pc1_ret = return_matrix.values*pc_w"
   ]
  },
  {
   "cell_type": "code",
   "execution_count": 215,
   "metadata": {},
   "outputs": [],
   "source": [
    "# plot the total return index of the first PC portfolio\n",
    "pc_ret = pd.DataFrame(data =pc1_ret, index= return_matrix.index)\n",
    "pc_ret_idx = pc_ret+1\n",
    "pc_ret_idx= pc_ret_idx.cumprod()\n",
    "pc_ret_idx.columns =['pc1']"
   ]
  },
  {
   "cell_type": "code",
   "execution_count": null,
   "metadata": {},
   "outputs": [],
   "source": []
  }
 ],
 "metadata": {
  "kernelspec": {
   "display_name": "Python 3",
   "language": "python",
   "name": "python3"
  },
  "language_info": {
   "codemirror_mode": {
    "name": "ipython",
    "version": 3
   },
   "file_extension": ".py",
   "mimetype": "text/x-python",
   "name": "python",
   "nbconvert_exporter": "python",
   "pygments_lexer": "ipython3",
   "version": "3.7.1"
  }
 },
 "nbformat": 4,
 "nbformat_minor": 2
}
